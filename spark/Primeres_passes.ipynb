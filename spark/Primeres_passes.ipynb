{
 "cells": [
  {
   "cell_type": "markdown",
   "id": "9589ec9e-1c7c-4b61-9005-98e853985946",
   "metadata": {},
   "source": [
    "## Primeres passes clúster spark"
   ]
  },
  {
   "cell_type": "code",
   "execution_count": 19,
   "id": "5b0236d8-7e4d-4bc4-a3a6-0b0db2442636",
   "metadata": {},
   "outputs": [],
   "source": [
    "# Importar SparkSession\n",
    "from pyspark.sql import SparkSession"
   ]
  },
  {
   "cell_type": "code",
   "execution_count": 20,
   "id": "47747a10-a9f1-464e-b7f8-6158a7efd84d",
   "metadata": {},
   "outputs": [
    {
     "data": {
      "text/html": [
       "\n",
       "            <div>\n",
       "                <p><b>SparkSession - in-memory</b></p>\n",
       "                \n",
       "        <div>\n",
       "            <p><b>SparkContext</b></p>\n",
       "\n",
       "            <p><a href=\"http://e4d3f6ccdba3:4040\">Spark UI</a></p>\n",
       "\n",
       "            <dl>\n",
       "              <dt>Version</dt>\n",
       "                <dd><code>v3.1.2</code></dd>\n",
       "              <dt>Master</dt>\n",
       "                <dd><code>spark://spark-master:7077</code></dd>\n",
       "              <dt>AppName</dt>\n",
       "                <dd><code>Primeres passes</code></dd>\n",
       "            </dl>\n",
       "        </div>\n",
       "        \n",
       "            </div>\n",
       "        "
      ],
      "text/plain": [
       "<pyspark.sql.session.SparkSession at 0x7f6cfdfe6820>"
      ]
     },
     "execution_count": 20,
     "metadata": {},
     "output_type": "execute_result"
    }
   ],
   "source": [
    "# Establir les propietats de Spark:\n",
    "# - URL de connexió\n",
    "# local\n",
    "# url = \"local\"\n",
    "# al cluster\n",
    "url = \"spark://spark-master:7077\"\n",
    "\n",
    "# - Nom de l'aplicació\n",
    "nom = \"Primeres passes\"\n",
    "#conf = SparkConf().setMaster(url).setAppName(nom).set(\"spark.executor.memory\", \"512m\")\n",
    "\n",
    "# Iniciar un clúster de Spark (pot trigar uns minuts)\n",
    "# Comprovar si ja existeix aquest clúster i en el cas contrari crear un nou \n",
    "spark = SparkSession \\\n",
    "    .builder \\\n",
    "    .master(url) \\\n",
    "    .appName(nom) \\\n",
    "    .config(\"spark.executor.memory\", \"512m\") \\\n",
    "    .getOrCreate()\n",
    "\n",
    "# Mostrar l'spark session i el seu spark context del clúster creat\n",
    "spark"
   ]
  },
  {
   "cell_type": "markdown",
   "id": "e9c288c4-1b1c-4848-858e-0c69c2359adb",
   "metadata": {},
   "source": [
    "Creació d'un PySpark DataFrame a partir d'un RDD i aquest està creat a partir d'una llista de tuples."
   ]
  },
  {
   "cell_type": "code",
   "execution_count": 22,
   "id": "631a4687-2ff0-46d5-bbd2-bad8143a5683",
   "metadata": {},
   "outputs": [
    {
     "data": {
      "text/plain": [
       "DataFrame[a: bigint, b: double, c: string]"
      ]
     },
     "execution_count": 22,
     "metadata": {},
     "output_type": "execute_result"
    }
   ],
   "source": [
    "rdd = spark.sparkContext.parallelize([\n",
    "    (1, 2., 'string1'),\n",
    "    (2, 3., 'string2'),\n",
    "    (3, 4., 'string3')\n",
    "])\n",
    "df = spark.createDataFrame(rdd, schema=['a', 'b', 'c'])\n",
    "df"
   ]
  },
  {
   "cell_type": "code",
   "execution_count": 23,
   "id": "32bde6f4-8cc3-4a68-a041-f95b5c0fb565",
   "metadata": {},
   "outputs": [
    {
     "name": "stderr",
     "output_type": "stream",
     "text": [
      "[Stage 7:===================>                                       (1 + 2) / 3]\r"
     ]
    },
    {
     "name": "stdout",
     "output_type": "stream",
     "text": [
      "+---+---+-------+\n",
      "|  a|  b|      c|\n",
      "+---+---+-------+\n",
      "|  1|2.0|string1|\n",
      "|  2|3.0|string2|\n",
      "|  3|4.0|string3|\n",
      "+---+---+-------+\n",
      "\n",
      "root\n",
      " |-- a: long (nullable = true)\n",
      " |-- b: double (nullable = true)\n",
      " |-- c: string (nullable = true)\n",
      "\n"
     ]
    },
    {
     "name": "stderr",
     "output_type": "stream",
     "text": [
      "                                                                                \r"
     ]
    }
   ],
   "source": [
    "df.show()\n",
    "df.printSchema()"
   ]
  },
  {
   "cell_type": "code",
   "execution_count": null,
   "id": "edd6d826-cb6f-4214-bf59-5ac174e428c5",
   "metadata": {},
   "outputs": [],
   "source": []
  }
 ],
 "metadata": {
  "kernelspec": {
   "display_name": "Python 3 (ipykernel)",
   "language": "python",
   "name": "python3"
  },
  "language_info": {
   "codemirror_mode": {
    "name": "ipython",
    "version": 3
   },
   "file_extension": ".py",
   "mimetype": "text/x-python",
   "name": "python",
   "nbconvert_exporter": "python",
   "pygments_lexer": "ipython3",
   "version": "3.9.2"
  }
 },
 "nbformat": 4,
 "nbformat_minor": 5
}
